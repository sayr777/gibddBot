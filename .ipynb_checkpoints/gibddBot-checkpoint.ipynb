{
 "cells": [
  {
   "cell_type": "code",
   "execution_count": 1,
   "metadata": {
    "collapsed": true
   },
   "outputs": [],
   "source": [
    "from selenium import webdriver\n",
    "from selenium.webdriver.common.keys import Keys\n",
    "\n",
    "from time import sleep\n",
    "\n",
    "from PIL import Image\n",
    "from io import BytesIO"
   ]
  },
  {
   "cell_type": "code",
   "execution_count": 2,
   "metadata": {
    "collapsed": false
   },
   "outputs": [],
   "source": [
    "HISTORY = 'checkAutoHistory'\n",
    "AIUSDTP = 'checkAutoAiusdtp'\n",
    "WANTED = 'checkAutoWanted'\n",
    "RESTRICTED = 'checkAutoRestricted'"
   ]
  },
  {
   "cell_type": "code",
   "execution_count": 13,
   "metadata": {
    "collapsed": true
   },
   "outputs": [],
   "source": [
    "vin = '2c4gj453xyr693697'\n",
    "checkType = HISTORY"
   ]
  },
  {
   "cell_type": "code",
   "execution_count": 12,
   "metadata": {
    "collapsed": true
   },
   "outputs": [],
   "source": [
    "def check_auto(vin, checkType):    \n",
    "    driver = webdriver.Chrome('chromedriver.exe')\n",
    "    \n",
    "    captcha = get_captcha(driver, vin, checkType)\n",
    "    result = get_result_captcha(captcha)\n",
    "    \n",
    "    driver.close()\n",
    "    return result"
   ]
  },
  {
   "cell_type": "code",
   "execution_count": 15,
   "metadata": {
    "collapsed": false
   },
   "outputs": [],
   "source": [
    "# sent_result_captcha()        #\n",
    "# Arg:                         #\n",
    "# driver - WebDriver           #\n",
    "# captcha - captcha-image      #\n",
    "# Return ---\n",
    "\n",
    "def sent_result_captcha(driver, captcha):\n",
    "    #отправка фото в телеграм\n",
    "    answer = 0 #ожидание ответа\n",
    "    \n",
    "    elem = driver.find_element_by_id(\"captchaInput\")\n",
    "    elem.send_keys(answer)\n",
    "    elem = driver.find_element_by_id(\"captchaSubmit\")\n",
    "    elem.click()\n",
    "    sleep(1)\n",
    "    elem = driver.find_element_by_id(checkType)\n",
    "    elem = elem.find_element_by_class_name(\"checkResult\")"
   ]
  },
  {
   "cell_type": "code",
   "execution_count": 14,
   "metadata": {
    "collapsed": false
   },
   "outputs": [],
   "source": [
    "# get_captcha()                 #\n",
    "# Arg:                          #\n",
    "# driver - WebDriver            #\n",
    "# vin - vin auto number         #\n",
    "# checkType - type of check     #\n",
    "# Return: captcha image         #\n",
    "\n",
    "def get_captcha(driver, vin, checkType):\n",
    "    driver.get(\"https://гибдд.рф/check/auto#\")\n",
    "    sleep(0.5)\n",
    "    elem = driver.find_element_by_name(\"vin\")\n",
    "    elem.send_keys(vin)\n",
    "    elem = driver.find_element_by_id(checkType)\n",
    "    elem.location_once_scrolled_into_view\n",
    "    elem = elem.find_element_by_link_text(\"запросить проверку\")\n",
    "    elem.click()\n",
    "    sleep(0.5)\n",
    "    png = driver.get_screenshot_as_png()\n",
    "    img = Image.open(BytesIO(png))\n",
    "    locX = 170; locY = 405; sizeX = 150; sizeY = 60\n",
    "    left = locX; top = locY; right = locX + sizeX; bottom = locY + sizeY\n",
    "    img = img.crop((left, top, right, bottom))\n",
    "    img.save('dataRequest\\%s.png' % vin)\n",
    "    \n",
    "    return img"
   ]
  }
 ],
 "metadata": {
  "anaconda-cloud": {},
  "kernelspec": {
   "display_name": "Python [conda root]",
   "language": "python",
   "name": "conda-root-py"
  },
  "language_info": {
   "codemirror_mode": {
    "name": "ipython",
    "version": 3
   },
   "file_extension": ".py",
   "mimetype": "text/x-python",
   "name": "python",
   "nbconvert_exporter": "python",
   "pygments_lexer": "ipython3",
   "version": "3.5.2"
  }
 },
 "nbformat": 4,
 "nbformat_minor": 1
}
